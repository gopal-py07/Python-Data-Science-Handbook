{
 "cells": [
  {
   "cell_type": "markdown",
   "id": "2d48d2df-7f59-45c2-887f-d3c65f60fe9d",
   "metadata": {},
   "source": [
    "This notebook cover bacsic of numpy arrays topic vice practices"
   ]
  },
  {
   "cell_type": "markdown",
   "id": "82cac1d2-405a-4624-8317-64f13bbd632b",
   "metadata": {},
   "source": [
    "# NumPy Array Attributes"
   ]
  },
  {
   "cell_type": "markdown",
   "id": "e059639c-43e0-4d27-b8ed-37a592262abc",
   "metadata": {},
   "source": [
    "Start with defining the random array of one, two, three dimentional array\n",
    "will use numpy random generater and seed with set of value to generate same random array each time"
   ]
  },
  {
   "cell_type": "code",
   "execution_count": 1,
   "id": "64ac74a5-530b-46fd-b414-fd73a9b614e9",
   "metadata": {},
   "outputs": [],
   "source": [
    "import numpy as np"
   ]
  },
  {
   "cell_type": "code",
   "execution_count": null,
   "id": "5c6983f0-5c87-464d-9ef1-832cf1b6e148",
   "metadata": {},
   "outputs": [],
   "source": []
  }
 ],
 "metadata": {
  "kernelspec": {
   "display_name": "Python 3 (ipykernel)",
   "language": "python",
   "name": "python3"
  },
  "language_info": {
   "codemirror_mode": {
    "name": "ipython",
    "version": 3
   },
   "file_extension": ".py",
   "mimetype": "text/x-python",
   "name": "python",
   "nbconvert_exporter": "python",
   "pygments_lexer": "ipython3",
   "version": "3.12.4"
  }
 },
 "nbformat": 4,
 "nbformat_minor": 5
}
